{
 "cells": [
  {
   "cell_type": "markdown",
   "metadata": {},
   "source": [
    "# Multilayer Perceptron vs Convolutional Neural Nets  - A comparison"
   ]
  },
  {
   "cell_type": "markdown",
   "metadata": {},
   "source": [
    "This notebook is intended to understand the advantages of Convolutions for extracting abstract features from images in comparison to plain vanilla network. \n",
    "I have used MNIST dataset for this comparison.  "
   ]
  },
  {
   "cell_type": "markdown",
   "metadata": {},
   "source": [
    "## Loading and exploring data"
   ]
  },
  {
   "cell_type": "code",
   "execution_count": 487,
   "metadata": {},
   "outputs": [],
   "source": [
    "%reload_ext autoreload\n",
    "%autoreload 2\n",
    "%matplotlib inline\n",
    "import torch \n",
    "import torch.nn as nn\n",
    "import torch.nn.functional as F\n",
    "import os\n",
    "import numpy as np\n",
    "import matplotlib.pyplot as plt\n",
    "import pandas as pd\n",
    "from sklearn.metrics import confusion_matrix\n",
    "from torch.utils.data import DataLoader\n",
    "import torchvision\n",
    "from torchvision import datasets,transforms\n",
    "from PIL import Image\n",
    "import pdb\n",
    "from sklearn.model_selection import train_test_split"
   ]
  },
  {
   "cell_type": "code",
   "execution_count": 488,
   "metadata": {},
   "outputs": [],
   "source": [
    "path = Path(\"data/mnist/\"); \n",
    "test_data_path = path/'test'\n",
    "train_data_path = path/'train'"
   ]
  },
  {
   "cell_type": "code",
   "execution_count": 489,
   "metadata": {},
   "outputs": [],
   "source": [
    "train_imgs=[]\n",
    "train_labels=[]\n",
    "for item in os.listdir(train_data_path):\n",
    "    for items in os.listdir(train_data_path/item):\n",
    "        train_imgs.append(train_data_path/item/items)\n",
    "        train_labels.append(int(item))"
   ]
  },
  {
   "cell_type": "code",
   "execution_count": 490,
   "metadata": {},
   "outputs": [],
   "source": [
    "test_imgs=[]\n",
    "test_labels=[]\n",
    "for item in os.listdir(test_data_path):\n",
    "    for items in os.listdir(test_data_path/item):\n",
    "        test_imgs.append(test_data_path/item/items)\n",
    "        test_labels.append(int(item))"
   ]
  },
  {
   "cell_type": "code",
   "execution_count": 491,
   "metadata": {},
   "outputs": [],
   "source": [
    "df_train = pd.DataFrame(list(zip(train_imgs,train_labels)))\n",
    "df_train.columns = ('path','label')"
   ]
  },
  {
   "cell_type": "markdown",
   "metadata": {},
   "source": [
    "### Creating validation split from train"
   ]
  },
  {
   "cell_type": "code",
   "execution_count": 492,
   "metadata": {},
   "outputs": [],
   "source": [
    "X_train,X_val,y_train,y_val=train_test_split(df_train['path'],df_train['label'],test_size=0.2,stratify=df_train['label'])"
   ]
  },
  {
   "cell_type": "markdown",
   "metadata": {},
   "source": [
    "### Creating dataset and dataloader"
   ]
  },
  {
   "cell_type": "code",
   "execution_count": 493,
   "metadata": {},
   "outputs": [],
   "source": [
    "class Dataset(torch.utils.data.Dataset):\n",
    "      \n",
    "    def __init__(self,features,labels):\n",
    "        self.features = list(features)\n",
    "        self.labels = list(labels)\n",
    "    \n",
    "    def __len__(self):\n",
    "        return len(self.features)\n",
    "        \n",
    "    def __getitem__(self, index):\n",
    "        trans=transforms.ToTensor()\n",
    "        img_path = self.features[index]\n",
    "        img = Image.open(img_path)\n",
    "        X = trans(img).reshape(-1,1).squeeze()\n",
    "        y = torch.tensor([self.labels[index]])\n",
    "        return X,y\n",
    "    "
   ]
  },
  {
   "cell_type": "code",
   "execution_count": 494,
   "metadata": {},
   "outputs": [],
   "source": [
    "train_dataset = Dataset(X_train,y_train)\n",
    "val_dataset= Dataset(X_val,y_val)\n",
    "test_dataset = Dataset(test_imgs,test_labels)"
   ]
  },
  {
   "cell_type": "code",
   "execution_count": 495,
   "metadata": {},
   "outputs": [],
   "source": [
    "train_loader = torch.utils.data.DataLoader(train_dataset, batch_size = 64,shuffle=True)\n",
    "val_loader=torch.utils.data.DataLoader(val_dataset, batch_size = 64,shuffle=True)\n",
    "test_loader=torch.utils.data.DataLoader(test_dataset, batch_size = 64,shuffle=True)"
   ]
  },
  {
   "cell_type": "markdown",
   "metadata": {},
   "source": [
    "### Creating multilayer perceptron"
   ]
  },
  {
   "cell_type": "code",
   "execution_count": 496,
   "metadata": {},
   "outputs": [],
   "source": [
    "class MultilayerPerceptron(nn.Module):\n",
    "    def __init__(self, in_features,out_size,hid_layers):\n",
    "        super().__init__()\n",
    "        \n",
    "        layers = []\n",
    "       \n",
    "        for idx,item in enumerate(hid_layers):\n",
    "            if idx==0:\n",
    "                layers.append(nn.Linear(in_features, item))\n",
    "            else:\n",
    "                layers.append(nn.Linear(hid_layers[idx-1],item))\n",
    "            layers.append(nn.ReLU())\n",
    "        \n",
    "        layers.append(nn.Linear(hid_layers[-1],out_size))    \n",
    "        \n",
    "        self.net = nn.Sequential(*layers)\n",
    "        \n",
    "    def forward(self,x): # size of x must be [batch size x 784]\n",
    "        out  = self.net(x)\n",
    "        return F.log_softmax(out,dim=1)"
   ]
  },
  {
   "cell_type": "code",
   "execution_count": 497,
   "metadata": {},
   "outputs": [],
   "source": [
    "params = {'hid_layers':[120,84],\n",
    "          'input_size':784,\n",
    "          'out_size':10\n",
    "         }"
   ]
  },
  {
   "cell_type": "markdown",
   "metadata": {},
   "source": [
    "### Training parameters"
   ]
  },
  {
   "cell_type": "code",
   "execution_count": 498,
   "metadata": {},
   "outputs": [],
   "source": [
    "epochs = 50\n",
    "lr=0.01\n",
    "criterion = nn.CrossEntropyLoss()\n",
    "model = MultilayerPerceptron(params['input_size'],params['out_size'],params['hid_layers'])\n",
    "optimizer= torch.optim.SGD(model.parameters(),lr = lr)"
   ]
  },
  {
   "cell_type": "markdown",
   "metadata": {},
   "source": [
    "### Defining train and validation cycles"
   ]
  },
  {
   "cell_type": "code",
   "execution_count": 499,
   "metadata": {},
   "outputs": [],
   "source": [
    "def train(model,train_loader,criterion,optimizer):\n",
    "    \n",
    "    model.train() \n",
    "    train_losses=[]\n",
    "    train_acc=[]\n",
    "    for batch in train_loader:\n",
    "        x = batch[0]\n",
    "        y_true  = batch[1]\n",
    "\n",
    "        if torch.cuda.is_available():\n",
    "            x  = x.cuda()\n",
    "            y_true = y_true.cuda()\n",
    "        \n",
    "        optimizer.zero_grad()\n",
    "        y_pred = model.forward(x)\n",
    "        \n",
    "        train_loss = criterion(y_pred,y_true.squeeze())\n",
    "        train_loss.backward()\n",
    "        optimizer.step()\n",
    "        train_losses.append(train_loss.item())\n",
    "        \n",
    "        result=torch.argmax(y_pred,dim=1).reshape(-1,1)\n",
    "        correct_preds_count = (result==y_true).sum()\n",
    "        accuracy = correct_preds_count.item() / result.shape[0]\n",
    "        train_acc.append(accuracy)\n",
    "     \n",
    "    return model,np.mean(train_losses), np.mean(train_acc)   "
   ]
  },
  {
   "cell_type": "code",
   "execution_count": 500,
   "metadata": {},
   "outputs": [],
   "source": [
    "def validation(model,val_loader,criterion):\n",
    "    model.eval()\n",
    "    val_losses=[]\n",
    "    val_acc=[]\n",
    "    for batch in val_loader:\n",
    "        x=batch[0]\n",
    "        y_true=batch[1]\n",
    "        \n",
    "        if torch.cuda.is_available():\n",
    "            x  = x.cuda()\n",
    "            y_true = y_true.cuda()\n",
    "        \n",
    "        y_pred=model.forward(x)\n",
    "        vali_loss = criterion(y_pred,y_true.squeeze())\n",
    "        val_losses.append(vali_loss.item())\n",
    "        \n",
    "        result=torch.argmax(y_pred,dim=1).reshape(-1,1)\n",
    "        correct_preds_count = (result==y_true).sum()\n",
    "        accuracy = correct_preds_count.item() / result.shape[0]\n",
    "        val_acc.append(accuracy)\n",
    "        \n",
    "    return np.mean(val_losses), np.mean(val_acc)  "
   ]
  },
  {
   "cell_type": "code",
   "execution_count": 501,
   "metadata": {},
   "outputs": [],
   "source": [
    "def do_training (epochs,model,optimizer,criterion,train_loader,val_loader,flag):\n",
    "    \n",
    "    if torch.cuda.is_available():\n",
    "        model = model.cuda()\n",
    "    \n",
    "    train_loss_per_epoch = []\n",
    "    train_acc_per_epoch = []\n",
    "    val_loss_per_epoch = []\n",
    "    val_acc_per_epoch = []\n",
    "    best_val_loss=100000\n",
    "    for epoch in range(epochs):\n",
    "\n",
    "        # training cycle\n",
    "        model,train_loss,train_acc = train(model,train_loader,criterion,optimizer)\n",
    "        train_loss_per_epoch.append(train_loss)\n",
    "        train_acc_per_epoch.append(train_acc)\n",
    "        \n",
    "        # validation cycle\n",
    "        val_loss, val_acc = validation(model,val_loader,criterion)\n",
    "        val_loss_per_epoch.append(val_loss)\n",
    "        val_acc_per_epoch.append(val_acc)\n",
    "        \n",
    "        if val_loss < best_val_loss:\n",
    "            best_val_loss = val_loss\n",
    "            model_name = f\"checkpoints/{flag}/train_loss_{train_loss}_val_loss_{val_loss}.pt\"\n",
    "            torch.save(model.state_dict(),model_name)\n",
    "                \n",
    "        print (f\"Train Loss: {train_loss}, Train Acc: {train_acc}, Val Loss: {val_loss}, Val Acc: {val_acc}\")\n",
    "    \n",
    "    return train_loss_per_epoch, train_acc_per_epoch, val_loss_per_epoch,val_acc_per_epoch\n",
    "    "
   ]
  },
  {
   "cell_type": "code",
   "execution_count": 502,
   "metadata": {},
   "outputs": [
    {
     "name": "stdout",
     "output_type": "stream",
     "text": [
      "Train Loss: 1.9652798530260722, Train Acc: 0.4576875, Val Loss: 1.2039360860560804, Val Acc: 0.7321309840425532\n",
      "Train Loss: 0.7476864746809005, Train Acc: 0.8159583333333333, Val Loss: 0.5456702805897022, Val Acc: 0.8505651595744681\n",
      "Train Loss: 0.46449087011814116, Train Acc: 0.8730625, Val Loss: 0.4280315360965881, Val Acc: 0.8818982712765957\n",
      "Train Loss: 0.3862869633634885, Train Acc: 0.8914166666666666, Val Loss: 0.3786417100023716, Val Acc: 0.8959441489361702\n",
      "Train Loss: 0.3455706083774567, Train Acc: 0.90225, Val Loss: 0.3481312774201023, Val Acc: 0.9037566489361702\n",
      "Train Loss: 0.31809753185510636, Train Acc: 0.90975, Val Loss: 0.32423996148591344, Val Acc: 0.91015625\n",
      "Train Loss: 0.29748752823472024, Train Acc: 0.915625, Val Loss: 0.3104741015729118, Val Acc: 0.9121509308510638\n",
      "Train Loss: 0.28033324211835864, Train Acc: 0.9197083333333333, Val Loss: 0.29396497747523986, Val Acc: 0.9163065159574468\n",
      "Train Loss: 0.2657841500540574, Train Acc: 0.9238125, Val Loss: 0.2802444998808998, Val Acc: 0.921126994680851\n",
      "Train Loss: 0.25236931439240773, Train Acc: 0.9286458333333333, Val Loss: 0.26913537822188216, Val Acc: 0.9232047872340425\n",
      "Train Loss: 0.2401820242901643, Train Acc: 0.9314166666666667, Val Loss: 0.2570451824192671, Val Acc: 0.9276928191489362\n",
      "Train Loss: 0.2291607256879409, Train Acc: 0.9350416666666667, Val Loss: 0.25219876208203906, Val Acc: 0.9273603723404256\n",
      "Train Loss: 0.2183995611021916, Train Acc: 0.937625, Val Loss: 0.23870735908759402, Val Acc: 0.9334275265957447\n",
      "Train Loss: 0.20833989724020163, Train Acc: 0.9404791666666666, Val Loss: 0.2308647692044999, Val Acc: 0.9351728723404256\n",
      "Train Loss: 0.19946240913371244, Train Acc: 0.9429791666666667, Val Loss: 0.2195659887362668, Val Acc: 0.9396609042553191\n",
      "Train Loss: 0.19101203941802183, Train Acc: 0.946, Val Loss: 0.21327993315347332, Val Acc: 0.9401595744680851\n",
      "Train Loss: 0.1829742555866639, Train Acc: 0.9480625, Val Loss: 0.20647681661029446, Val Acc: 0.9399102393617021\n",
      "Train Loss: 0.17579164528350036, Train Acc: 0.9501875, Val Loss: 0.2000561306015291, Val Acc: 0.9428191489361702\n",
      "Train Loss: 0.16906889269749323, Train Acc: 0.9515833333333333, Val Loss: 0.1935172176305601, Val Acc: 0.945811170212766\n",
      "Train Loss: 0.16295913810531298, Train Acc: 0.9529375, Val Loss: 0.19308386130773642, Val Acc: 0.9437333776595744\n",
      "Train Loss: 0.15732816589375337, Train Acc: 0.9549375, Val Loss: 0.1821106449958492, Val Acc: 0.9478889627659575\n",
      "Train Loss: 0.15171106605231763, Train Acc: 0.9559166666666666, Val Loss: 0.1806343667446933, Val Acc: 0.9482214095744681\n",
      "Train Loss: 0.14670193549990654, Train Acc: 0.9579375, Val Loss: 0.1747176570599859, Val Acc: 0.9488031914893617\n",
      "Train Loss: 0.14181098085145155, Train Acc: 0.9590625, Val Loss: 0.16997729218069543, Val Acc: 0.9510472074468085\n",
      "Train Loss: 0.13719603281716505, Train Acc: 0.9608333333333333, Val Loss: 0.1654656574011166, Val Acc: 0.9520445478723404\n",
      "Train Loss: 0.13286547223478556, Train Acc: 0.9622916666666667, Val Loss: 0.16234061639121872, Val Acc: 0.9521276595744681\n",
      "Train Loss: 0.1288696470806996, Train Acc: 0.9635208333333334, Val Loss: 0.160511377505324, Val Acc: 0.9541223404255319\n",
      "Train Loss: 0.12494736983875433, Train Acc: 0.9643333333333334, Val Loss: 0.15692548769863046, Val Acc: 0.9548703457446809\n",
      "Train Loss: 0.12168726687133312, Train Acc: 0.965, Val Loss: 0.15218676971469788, Val Acc: 0.9558676861702128\n",
      "Train Loss: 0.11792642818391323, Train Acc: 0.9667708333333334, Val Loss: 0.1504119061468605, Val Acc: 0.9555352393617021\n",
      "Train Loss: 0.11439677529782057, Train Acc: 0.9676458333333333, Val Loss: 0.14929169658175173, Val Acc: 0.9566988031914894\n",
      "Train Loss: 0.11121681061138709, Train Acc: 0.9683958333333333, Val Loss: 0.14368793402025673, Val Acc: 0.9571974734042553\n",
      "Train Loss: 0.10805160084118445, Train Acc: 0.9691666666666666, Val Loss: 0.14162734616547823, Val Acc: 0.9578623670212766\n",
      "Train Loss: 0.10495259063690901, Train Acc: 0.9703125, Val Loss: 0.14070714191791225, Val Acc: 0.9588597074468085\n",
      "Train Loss: 0.10246095605567097, Train Acc: 0.971125, Val Loss: 0.13743958648967933, Val Acc: 0.9602726063829787\n",
      "Train Loss: 0.09955308831731478, Train Acc: 0.9716458333333333, Val Loss: 0.13527488966095955, Val Acc: 0.9598570478723404\n",
      "Train Loss: 0.09701403597618143, Train Acc: 0.9723125, Val Loss: 0.13376081257345193, Val Acc: 0.9607712765957447\n",
      "Train Loss: 0.09430790189032753, Train Acc: 0.9734375, Val Loss: 0.13033333470787298, Val Acc: 0.9607712765957447\n",
      "Train Loss: 0.09189128025869528, Train Acc: 0.9742916666666667, Val Loss: 0.13058207502113062, Val Acc: 0.9619348404255319\n",
      "Train Loss: 0.089667147791634, Train Acc: 0.9745416666666666, Val Loss: 0.1291052363416616, Val Acc: 0.9605219414893617\n",
      "Train Loss: 0.08717741061622898, Train Acc: 0.9755833333333334, Val Loss: 0.12865346664206145, Val Acc: 0.9611037234042553\n",
      "Train Loss: 0.08494794212902586, Train Acc: 0.9764166666666667, Val Loss: 0.12464093729021385, Val Acc: 0.9631815159574468\n",
      "Train Loss: 0.082853545114398, Train Acc: 0.9769375, Val Loss: 0.12226181294016064, Val Acc: 0.9632646276595744\n",
      "Train Loss: 0.08087728676820795, Train Acc: 0.9772708333333333, Val Loss: 0.12013060352864101, Val Acc: 0.9636801861702128\n",
      "Train Loss: 0.07890346212809285, Train Acc: 0.9775416666666666, Val Loss: 0.1185530062289314, Val Acc: 0.9645113031914894\n",
      "Train Loss: 0.07664864940817158, Train Acc: 0.9785208333333333, Val Loss: 0.11943239617121822, Val Acc: 0.96484375\n",
      "Train Loss: 0.07509619534015656, Train Acc: 0.9787708333333334, Val Loss: 0.11793728583948092, Val Acc: 0.9642619680851063\n",
      "Train Loss: 0.07337943939243753, Train Acc: 0.9796458333333333, Val Loss: 0.11561788880127541, Val Acc: 0.9660073138297872\n",
      "Train Loss: 0.07153199221504232, Train Acc: 0.9801875, Val Loss: 0.1158113985253062, Val Acc: 0.96484375\n",
      "Train Loss: 0.06981229243800044, Train Acc: 0.9810416666666667, Val Loss: 0.11426157753003087, Val Acc: 0.9654255319148937\n"
     ]
    }
   ],
   "source": [
    "train_loss_per_epoch, train_acc_per_epoch, val_loss_per_epoch,val_acc_per_epoch = do_training(epochs,model,optimizer,criterion,train_loader,val_loader,flag='model1')"
   ]
  },
  {
   "cell_type": "code",
   "execution_count": 503,
   "metadata": {},
   "outputs": [
    {
     "data": {
      "text/plain": [
       "<matplotlib.legend.Legend at 0x7f426f1ba4a8>"
      ]
     },
     "execution_count": 503,
     "metadata": {},
     "output_type": "execute_result"
    },
    {
     "data": {
      "image/png": "[encoded data removed]",
      "text/plain": [
       "<Figure size 432x288 with 1 Axes>"
      ]
     },
     "metadata": {
      "needs_background": "light"
     },
     "output_type": "display_data"
    }
   ],
   "source": [
    "plt.plot(train_loss_per_epoch, label=\"Training Loss\")\n",
    "plt.plot(val_loss_per_epoch, label=\"Validation Loss\")\n",
    "plt.legend()"
   ]
  },
  {
   "cell_type": "code",
   "execution_count": 504,
   "metadata": {},
   "outputs": [
    {
     "data": {
      "text/plain": [
       "<matplotlib.legend.Legend at 0x7f426db07668>"
      ]
     },
     "execution_count": 504,
     "metadata": {},
     "output_type": "execute_result"
    },
    {
     "data": {
      "image/png": "[encoded data removed]",
      "text/plain": [
       "<Figure size 432x288 with 1 Axes>"
      ]
     },
     "metadata": {
      "needs_background": "light"
     },
     "output_type": "display_data"
    }
   ],
   "source": [
    "plt.plot(train_acc_per_epoch, label=\"Training Accuracy\")\n",
    "plt.plot(val_acc_per_epoch, label=\"Validation Accuracy\")\n",
    "plt.legend()"
   ]
  },
  {
   "cell_type": "markdown",
   "metadata": {},
   "source": [
    "## Selecting and loading the best model for calculating test accuracy"
   ]
  },
  {
   "cell_type": "code",
   "execution_count": 505,
   "metadata": {},
   "outputs": [],
   "source": [
    "best_checkpoint = \"checkpoints/model1/train_loss_0.06981229243800044_val_loss_0.11426157753003087.pt\""
   ]
  },
  {
   "cell_type": "code",
   "execution_count": 506,
   "metadata": {},
   "outputs": [],
   "source": [
    "model = MultilayerPerceptron(params['input_size'],params['out_size'],params['hid_layers'])\n",
    "model.load_state_dict(torch.load(best_checkpoint))\n",
    "model = model.cuda()"
   ]
  },
  {
   "cell_type": "code",
   "execution_count": 507,
   "metadata": {},
   "outputs": [],
   "source": [
    "test_loss, test_acc = validation(model,test_loader,criterion)    "
   ]
  },
  {
   "cell_type": "code",
   "execution_count": 508,
   "metadata": {},
   "outputs": [
    {
     "name": "stdout",
     "output_type": "stream",
     "text": [
      "Test Accuracy: 0.9682523885350318, Test Loss: 0.099841077171361\n"
     ]
    }
   ],
   "source": [
    "print (f\"Test Accuracy: {test_acc}, Test Loss: {test_loss}\")"
   ]
  },
  {
   "cell_type": "markdown",
   "metadata": {},
   "source": [
    "## Creating Convolution Neural Network"
   ]
  },
  {
   "cell_type": "code",
   "execution_count": 464,
   "metadata": {},
   "outputs": [],
   "source": [
    "class CNN_Dataset(torch.utils.data.Dataset):\n",
    "      \n",
    "    def __init__(self,features,labels):\n",
    "        self.features = list(features)\n",
    "        self.labels = list(labels)\n",
    "    \n",
    "    def __len__(self):\n",
    "        return len(self.features)\n",
    "        \n",
    "    def __getitem__(self, index):\n",
    "        trans=transforms.ToTensor()\n",
    "        img_path = self.features[index]\n",
    "        img = Image.open(img_path)\n",
    "        X = trans(img)\n",
    "        y = torch.tensor([self.labels[index]])\n",
    "        return X,y"
   ]
  },
  {
   "cell_type": "code",
   "execution_count": 465,
   "metadata": {},
   "outputs": [],
   "source": [
    "train_dataset = CNN_Dataset(X_train,y_train)\n",
    "val_dataset= CNN_Dataset(X_val,y_val)\n",
    "train_loader = torch.utils.data.DataLoader(train_dataset, batch_size = 64,shuffle=True)\n",
    "val_loader=torch.utils.data.DataLoader(val_dataset, batch_size = 64,shuffle=True)"
   ]
  },
  {
   "cell_type": "code",
   "execution_count": 467,
   "metadata": {},
   "outputs": [],
   "source": [
    "class CNN_MNIST(nn.Module):\n",
    "    def __init__(self):\n",
    "        super().__init__()\n",
    "        self.conv1=nn.Conv2d(1,6,3,1)\n",
    "        self.conv2=nn.Conv2d(6,16,3,1)\n",
    "        self.fc1=nn.Linear(5*5*16, 120)\n",
    "        self.fc2=nn.Linear(120,84)\n",
    "        self.fc3=nn.Linear(84,10)\n",
    "        \n",
    "    def forward(self,x):\n",
    "        x=F.relu(self.conv1(x))\n",
    "        x=F.max_pool2d(x,2,2)\n",
    "        x=F.relu(self.conv2(x))\n",
    "        x=F.max_pool2d(x,2,2)\n",
    "        x=x.reshape(-1,16*5*5)\n",
    "        x=F.relu(self.fc1(x))\n",
    "        x=F.relu(self.fc2(x))\n",
    "        x=self.fc3(x)\n",
    "        return F.log_softmax(x,dim=1)"
   ]
  },
  {
   "cell_type": "code",
   "execution_count": 468,
   "metadata": {},
   "outputs": [],
   "source": [
    "model_cnn = CNN_MNIST()\n",
    "optimizer= torch.optim.SGD(model_cnn.parameters(),lr = lr)"
   ]
  },
  {
   "cell_type": "code",
   "execution_count": 469,
   "metadata": {},
   "outputs": [
    {
     "name": "stdout",
     "output_type": "stream",
     "text": [
      "Train Loss: 1.922331678946813, Train Acc: 0.43797916666666664, Val Loss: 0.73146555350816, Val Acc: 0.777842420212766\n",
      "Train Loss: 0.46225849322477974, Train Acc: 0.8564791666666667, Val Loss: 0.34592067711847896, Val Acc: 0.8935339095744681\n",
      "Train Loss: 0.2944179628590743, Train Acc: 0.9094375, Val Loss: 0.25044321423356836, Val Acc: 0.9212101063829787\n",
      "Train Loss: 0.21758299233516057, Train Acc: 0.9325833333333333, Val Loss: 0.20285026582473137, Val Acc: 0.9380817819148937\n",
      "Train Loss: 0.1729782741094629, Train Acc: 0.9468958333333334, Val Loss: 0.16266700970207124, Val Acc: 0.9486369680851063\n",
      "Train Loss: 0.14417756089692316, Train Acc: 0.9562083333333333, Val Loss: 0.14662886510028483, Val Acc: 0.9542054521276596\n",
      "Train Loss: 0.12464586025973161, Train Acc: 0.9612708333333333, Val Loss: 0.12097717618490471, Val Acc: 0.9621010638297872\n",
      "Train Loss: 0.1118199835854272, Train Acc: 0.9658958333333333, Val Loss: 0.11162407823065494, Val Acc: 0.9647606382978723\n",
      "Train Loss: 0.10101304619883497, Train Acc: 0.9687291666666666, Val Loss: 0.10081052129216334, Val Acc: 0.968251329787234\n",
      "Train Loss: 0.09220411989154915, Train Acc: 0.9718958333333333, Val Loss: 0.10780781419809035, Val Acc: 0.9665890957446809\n",
      "Train Loss: 0.08525374725523094, Train Acc: 0.973, Val Loss: 0.08919461732333962, Val Acc: 0.9725731382978723\n",
      "Train Loss: 0.07904292068754633, Train Acc: 0.9749375, Val Loss: 0.0972191119972775, Val Acc: 0.9708277925531915\n",
      "Train Loss: 0.07448695712474485, Train Acc: 0.9760416666666667, Val Loss: 0.08160441724256554, Val Acc: 0.9749833776595744\n",
      "Train Loss: 0.06977153503273924, Train Acc: 0.9779166666666667, Val Loss: 0.09053157367050013, Val Acc: 0.9727393617021277\n",
      "Train Loss: 0.06570680881850421, Train Acc: 0.9787708333333334, Val Loss: 0.07671305866159023, Val Acc: 0.975814494680851\n",
      "Train Loss: 0.06167528331497063, Train Acc: 0.9805, Val Loss: 0.08091295501489708, Val Acc: 0.9750664893617021\n",
      "Train Loss: 0.059101940583748125, Train Acc: 0.9811458333333334, Val Loss: 0.07847573559860045, Val Acc: 0.9754820478723404\n",
      "Train Loss: 0.0562507731312265, Train Acc: 0.9818541666666667, Val Loss: 0.06850463773143735, Val Acc: 0.9781416223404256\n",
      "Train Loss: 0.05276622470933944, Train Acc: 0.9833333333333333, Val Loss: 0.06737189754308696, Val Acc: 0.9782247340425532\n",
      "Train Loss: 0.050730839422593516, Train Acc: 0.9839583333333334, Val Loss: 0.07176918103830254, Val Acc: 0.9778091755319149\n",
      "Train Loss: 0.0488497320964622, Train Acc: 0.9845833333333334, Val Loss: 0.06746266799622234, Val Acc: 0.980219414893617\n",
      "Train Loss: 0.04668151408309738, Train Acc: 0.9848333333333333, Val Loss: 0.06431586685976846, Val Acc: 0.9808843085106383\n",
      "Train Loss: 0.04399046124424785, Train Acc: 0.986, Val Loss: 0.0649029265264386, Val Acc: 0.980219414893617\n",
      "Train Loss: 0.04244995992646242, Train Acc: 0.9862291666666667, Val Loss: 0.06438281994184201, Val Acc: 0.9803856382978723\n",
      "Train Loss: 0.04072025544506808, Train Acc: 0.986875, Val Loss: 0.06767605657768534, Val Acc: 0.9788896276595744\n",
      "Train Loss: 0.03896727852461239, Train Acc: 0.9869791666666666, Val Loss: 0.06506450186939315, Val Acc: 0.9818816489361702\n",
      "Train Loss: 0.03714448810260122, Train Acc: 0.9874583333333333, Val Loss: 0.06342439284359917, Val Acc: 0.9817154255319149\n",
      "Train Loss: 0.03503449223920082, Train Acc: 0.9888125, Val Loss: 0.06279248194001179, Val Acc: 0.9815492021276596\n",
      "Train Loss: 0.0336935818529843, Train Acc: 0.9889375, Val Loss: 0.06261690581920853, Val Acc: 0.9825465425531915\n",
      "Train Loss: 0.031938790358603, Train Acc: 0.9898333333333333, Val Loss: 0.05678890854556193, Val Acc: 0.983876329787234\n",
      "Train Loss: 0.031723067360852536, Train Acc: 0.9901458333333333, Val Loss: 0.05979597569131193, Val Acc: 0.9829621010638298\n",
      "Train Loss: 0.02959205983749901, Train Acc: 0.9905208333333333, Val Loss: 0.06565541948409791, Val Acc: 0.9798038563829787\n",
      "Train Loss: 0.02870637793916588, Train Acc: 0.9912083333333334, Val Loss: 0.057788745531728095, Val Acc: 0.9828789893617021\n",
      "Train Loss: 0.028038690141635014, Train Acc: 0.9907916666666666, Val Loss: 0.06385132397817289, Val Acc: 0.9833776595744681\n",
      "Train Loss: 0.02670233156454439, Train Acc: 0.9916041666666666, Val Loss: 0.06723986905157328, Val Acc: 0.9813829787234043\n",
      "Train Loss: 0.02544848665005217, Train Acc: 0.99175, Val Loss: 0.05750309457529356, Val Acc: 0.9840425531914894\n",
      "Train Loss: 0.02461721231485717, Train Acc: 0.99225, Val Loss: 0.06388500452219964, Val Acc: 0.9814660904255319\n",
      "Train Loss: 0.023453963072757083, Train Acc: 0.9925833333333334, Val Loss: 0.05546671626909804, Val Acc: 0.9849567819148937\n",
      "Train Loss: 0.022466331661329605, Train Acc: 0.992625, Val Loss: 0.06448412005494825, Val Acc: 0.9820478723404256\n",
      "Train Loss: 0.02178747048849861, Train Acc: 0.9933333333333333, Val Loss: 0.06993384383237386, Val Acc: 0.9795545212765957\n",
      "Train Loss: 0.02146565891588883, Train Acc: 0.9929375, Val Loss: 0.05987751434595532, Val Acc: 0.9837932180851063\n",
      "Train Loss: 0.020021401076344772, Train Acc: 0.9936666666666667, Val Loss: 0.07632865428805669, Val Acc: 0.9784740691489362\n",
      "Train Loss: 0.01932260448865903, Train Acc: 0.9935833333333334, Val Loss: 0.06415266939407918, Val Acc: 0.9826296542553191\n",
      "Train Loss: 0.018743643654937234, Train Acc: 0.9940833333333333, Val Loss: 0.05738456468215519, Val Acc: 0.9844581117021277\n",
      "Train Loss: 0.017270327086676845, Train Acc: 0.9946458333333333, Val Loss: 0.05939373185181931, Val Acc: 0.9831283244680851\n",
      "Train Loss: 0.01733052469138056, Train Acc: 0.9944166666666666, Val Loss: 0.05865673696377037, Val Acc: 0.983626994680851\n",
      "Train Loss: 0.0161390631023872, Train Acc: 0.9951666666666666, Val Loss: 0.06252208479650398, Val Acc: 0.9835438829787234\n",
      "Train Loss: 0.015129959303167803, Train Acc: 0.9954583333333333, Val Loss: 0.06595532701875856, Val Acc: 0.9823803191489362\n",
      "Train Loss: 0.015065792087601343, Train Acc: 0.9950833333333333, Val Loss: 0.05775519510303213, Val Acc: 0.9850398936170213\n",
      "Train Loss: 0.014299008698309384, Train Acc: 0.9954166666666666, Val Loss: 0.06213316878711339, Val Acc: 0.9842087765957447\n"
     ]
    }
   ],
   "source": [
    "train_loss_per_epoch, train_acc_per_epoch, val_loss_per_epoch,val_acc_per_epoch = do_training(epochs,model_cnn,optimizer,criterion,train_loader,val_loader,flag='model2')"
   ]
  },
  {
   "cell_type": "code",
   "execution_count": 470,
   "metadata": {},
   "outputs": [
    {
     "data": {
      "text/plain": [
       "<matplotlib.legend.Legend at 0x7f426dc96630>"
      ]
     },
     "execution_count": 470,
     "metadata": {},
     "output_type": "execute_result"
    },
    {
     "data": {
      "image/png": "[encoded data removed]",
      "text/plain": [
       "<Figure size 432x288 with 1 Axes>"
      ]
     },
     "metadata": {
      "needs_background": "light"
     },
     "output_type": "display_data"
    }
   ],
   "source": [
    "plt.plot(train_loss_per_epoch, label=\"Training Loss\")\n",
    "plt.plot(val_loss_per_epoch, label=\"Validation Loss\")\n",
    "plt.legend()"
   ]
  },
  {
   "cell_type": "code",
   "execution_count": 471,
   "metadata": {},
   "outputs": [
    {
     "data": {
      "text/plain": [
       "<matplotlib.legend.Legend at 0x7f42d81db518>"
      ]
     },
     "execution_count": 471,
     "metadata": {},
     "output_type": "execute_result"
    },
    {
     "data": {
      "image/png": "[encoded data removed]",
      "text/plain": [
       "<Figure size 432x288 with 1 Axes>"
      ]
     },
     "metadata": {
      "needs_background": "light"
     },
     "output_type": "display_data"
    }
   ],
   "source": [
    "plt.plot(train_acc_per_epoch, label=\"Training Accuracy\")\n",
    "plt.plot(val_acc_per_epoch, label=\"Validation Accuracy\")\n",
    "plt.legend()"
   ]
  },
  {
   "cell_type": "markdown",
   "metadata": {},
   "source": [
    "## Selecting and loading the best model for calculating test accuracy"
   ]
  },
  {
   "cell_type": "code",
   "execution_count": 472,
   "metadata": {},
   "outputs": [],
   "source": [
    "model_cnn = CNN_MNIST()\n",
    "best_checkpoint = \"checkpoints/model2/train_loss_0.023453963072757083_val_loss_0.05546671626909804.pt\"\n",
    "model_cnn.load_state_dict(torch.load(best_checkpoint))\n",
    "model_cnn = model.cuda()"
   ]
  },
  {
   "cell_type": "code",
   "execution_count": 473,
   "metadata": {},
   "outputs": [],
   "source": [
    "test_loss, test_acc = validation(model_cnn,test_loader,criterion)  "
   ]
  },
  {
   "cell_type": "code",
   "execution_count": 474,
   "metadata": {},
   "outputs": [
    {
     "name": "stdout",
     "output_type": "stream",
     "text": [
      "Test Accuracy: 0.9721337579617835, Test Loss: 0.09880167482551305\n"
     ]
    }
   ],
   "source": [
    "print (f\"Test Accuracy: {test_acc}, Test Loss: {test_loss}\")"
   ]
  },
  {
   "cell_type": "markdown",
   "metadata": {},
   "source": [
    "## Conclusion:"
   ]
  },
  {
   "cell_type": "markdown",
   "metadata": {},
   "source": [
    "- CNN converges faster then plain vanilla network\n",
    "- With equal number of epochs, CNN gave 2% more validation accuracy as compared to vanilla network\n"
   ]
  }
 ],
 "metadata": {
  "kernelspec": {
   "display_name": "deeplearning",
   "language": "python",
   "name": "deeplearning"
  },
  "language_info": {
   "codemirror_mode": {
    "name": "ipython",
    "version": 3
   },
   "file_extension": ".py",
   "mimetype": "text/x-python",
   "name": "python",
   "nbconvert_exporter": "python",
   "pygments_lexer": "ipython3",
   "version": "3.6.10"
  }
 },
 "nbformat": 4,
 "nbformat_minor": 4
}
